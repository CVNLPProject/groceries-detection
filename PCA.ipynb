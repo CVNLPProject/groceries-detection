{
 "cells": [
  {
   "cell_type": "code",
   "execution_count": 1,
   "id": "initial_id",
   "metadata": {
    "collapsed": true,
    "ExecuteTime": {
     "end_time": "2023-09-24T09:53:16.169002500Z",
     "start_time": "2023-09-24T09:53:13.523602800Z"
    }
   },
   "outputs": [
    {
     "ename": "FileNotFoundError",
     "evalue": "[WinError 3] The system cannot find the path specified: 'freiburg_groceries_dataset/images/'",
     "output_type": "error",
     "traceback": [
      "\u001B[1;31m---------------------------------------------------------------------------\u001B[0m",
      "\u001B[1;31mFileNotFoundError\u001B[0m                         Traceback (most recent call last)",
      "Cell \u001B[1;32mIn[1], line 16\u001B[0m\n\u001B[0;32m     13\u001B[0m labels \u001B[38;5;241m=\u001B[39m []\n\u001B[0;32m     15\u001B[0m \u001B[38;5;66;03m# Iterate through each category (folder) in the dataset\u001B[39;00m\n\u001B[1;32m---> 16\u001B[0m categories \u001B[38;5;241m=\u001B[39m \u001B[43mos\u001B[49m\u001B[38;5;241;43m.\u001B[39;49m\u001B[43mlistdir\u001B[49m\u001B[43m(\u001B[49m\u001B[43mdataset_dir\u001B[49m\u001B[43m)\u001B[49m\n\u001B[0;32m     17\u001B[0m \u001B[38;5;28;01mfor\u001B[39;00m category \u001B[38;5;129;01min\u001B[39;00m categories:\n\u001B[0;32m     18\u001B[0m     category_dir \u001B[38;5;241m=\u001B[39m os\u001B[38;5;241m.\u001B[39mpath\u001B[38;5;241m.\u001B[39mjoin(dataset_dir, category)\n",
      "\u001B[1;31mFileNotFoundError\u001B[0m: [WinError 3] The system cannot find the path specified: 'freiburg_groceries_dataset/images/'"
     ]
    }
   ],
   "source": [
    "import os\n",
    "import glob\n",
    "import random\n",
    "import numpy as np\n",
    "from sklearn.model_selection import train_test_split\n",
    "from PIL import Image\n",
    "\n",
    "# Set the path to your dataset directory\n",
    "dataset_dir = 'freiburg_groceries_dataset/images/'\n",
    "\n",
    "# Initialize empty lists to store image data and labels\n",
    "image_data = []\n",
    "labels = []\n",
    "\n",
    "# Iterate through each category (folder) in the dataset\n",
    "categories = os.listdir(dataset_dir)\n",
    "for category in categories:\n",
    "    category_dir = os.path.join(dataset_dir, category)\n",
    "\n",
    "    # Iterate through image files in each category\n",
    "    image_files = glob.glob(os.path.join(category_dir, '*.png'))\n",
    "    for image_file in image_files:\n",
    "        # Load and preprocess the image (you may need to resize or preprocess further)\n",
    "        # Example using Pillow (PIL):\n",
    "        image = Image.open(image_file)#.resize((desired_width, desired_height))\n",
    "        image = np.array(image)\n",
    "\n",
    "        # Append the image data to the list\n",
    "        image_data.append(image)\n",
    "\n",
    "        # Append the label (category) to the labels list\n",
    "        labels.append(category)\n",
    "\n",
    "# Split the data into train and test sets\n",
    "train_data, test_data, train_labels, test_labels = train_test_split(\n",
    "    image_data, labels, test_size=0.2, random_state=42)\n",
    "\n",
    "# Convert lists to NumPy arrays\n",
    "trainX = np.array(train_data)\n",
    "testX = np.array(test_data)\n",
    "trainY = np.array(train_labels)\n",
    "testY = np.array(test_labels)\n"
   ]
  },
  {
   "cell_type": "code",
   "execution_count": null,
   "id": "2277a1f801d9e542",
   "metadata": {
    "collapsed": false,
    "ExecuteTime": {
     "start_time": "2023-09-24T09:53:16.157965Z"
    }
   },
   "outputs": [],
   "source": [
    "import cv2\n",
    "from matplotlib import pyplot as plt\n",
    "\n",
    "\n",
    "\n",
    "plt.imshow(trainX[1])\n",
    "plt.title('Original Image')\n",
    "plt.show()\n"
   ]
  },
  {
   "cell_type": "code",
   "execution_count": null,
   "id": "bc583f4aa413f25e",
   "metadata": {
    "collapsed": false,
    "ExecuteTime": {
     "start_time": "2023-09-24T09:53:16.161490900Z"
    }
   },
   "outputs": [],
   "source": [
    "# Flatten each image in the trainX array\n",
    "num_samples, height, width, channels = trainX.shape\n",
    "trainX = trainX.reshape(num_samples, -1)"
   ]
  },
  {
   "cell_type": "code",
   "execution_count": null,
   "id": "1d3c90594ef504b7",
   "metadata": {
    "collapsed": false,
    "ExecuteTime": {
     "start_time": "2023-09-24T09:53:16.164493400Z"
    }
   },
   "outputs": [],
   "source": [
    "# perform PCA on the training set, first fit and then transform\n",
    "# so that the set has the shape: n x 10 (components) \n",
    "from sklearn.decomposition import PCA\n",
    "pca = PCA(n_components=50)\n",
    "X_r = pca.fit(trainX).transform(trainX)"
   ]
  },
  {
   "cell_type": "code",
   "execution_count": null,
   "id": "fcecba023cce9ab1",
   "metadata": {
    "collapsed": false,
    "ExecuteTime": {
     "start_time": "2023-09-24T09:53:16.167492800Z"
    }
   },
   "outputs": [],
   "source": [
    "# Load SKLearn libraries, neccessary for next steps\n",
    "from sklearn.preprocessing import StandardScaler\n",
    "from sklearn.linear_model import LogisticRegression\n",
    "from sklearn.pipeline import Pipeline\n",
    "from sklearn.metrics import accuracy_score\n",
    "\n",
    "# Create a Scaler that will normalize the Data, Create LogisticRegression Model and use a Pipeline to stitch them together\n",
    "scaler = StandardScaler()\n",
    "lr = LogisticRegression(max_iter=10000,n_jobs=5, class_weight='balanced', solver='sag')\n",
    "model = Pipeline([('standardize', scaler),\n",
    "                  ('log_reg', lr)])\n",
    "model.fit(X_r, trainY)"
   ]
  },
  {
   "cell_type": "code",
   "execution_count": null,
   "id": "c25f9e4b97aa730c",
   "metadata": {
    "collapsed": false,
    "ExecuteTime": {
     "start_time": "2023-09-24T09:53:16.170512800Z"
    }
   },
   "outputs": [],
   "source": [
    "# Flatten each image in the trainX array\n",
    "num_samples, height, width, channels = testX.shape\n",
    "testX = testX.reshape(num_samples, -1)"
   ]
  },
  {
   "cell_type": "code",
   "execution_count": null,
   "id": "9c7277cf67b154c7",
   "metadata": {
    "collapsed": false,
    "ExecuteTime": {
     "start_time": "2023-09-24T09:53:16.173019800Z"
    }
   },
   "outputs": [],
   "source": [
    "# perform PCA on the test set, transform it according to other set\n",
    "X_t = pca.transform(testX)"
   ]
  },
  {
   "cell_type": "code",
   "execution_count": null,
   "id": "18cf7f2c584c04e",
   "metadata": {
    "collapsed": false,
    "ExecuteTime": {
     "start_time": "2023-09-24T09:53:16.175020500Z"
    }
   },
   "outputs": [],
   "source": [
    "# Predict the Labels for the new test data, compare them to the known values \n",
    "# And calculate how accurate the prediction is\n",
    "pred = model.predict(X_t);\n",
    "train_accuracy = accuracy_score(testY, pred)*100\n",
    "print('Train accuracy is: '+str(train_accuracy)+'%')"
   ]
  },
  {
   "cell_type": "code",
   "execution_count": null,
   "id": "b544520aa2429432",
   "metadata": {
    "collapsed": false,
    "ExecuteTime": {
     "start_time": "2023-09-24T09:53:16.177019700Z"
    }
   },
   "outputs": [],
   "source": []
  }
 ],
 "metadata": {
  "kernelspec": {
   "display_name": "Python 3",
   "language": "python",
   "name": "python3"
  },
  "language_info": {
   "codemirror_mode": {
    "name": "ipython",
    "version": 2
   },
   "file_extension": ".py",
   "mimetype": "text/x-python",
   "name": "python",
   "nbconvert_exporter": "python",
   "pygments_lexer": "ipython2",
   "version": "2.7.6"
  }
 },
 "nbformat": 4,
 "nbformat_minor": 5
}
