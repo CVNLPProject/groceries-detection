{
 "cells": [
  {
   "cell_type": "code",
   "execution_count": 1,
   "id": "initial_id",
   "metadata": {
    "collapsed": true,
    "ExecuteTime": {
     "end_time": "2023-09-24T09:55:40.939056100Z",
     "start_time": "2023-09-24T09:55:35.420574100Z"
    }
   },
   "outputs": [],
   "source": [
    "import torch\n",
    "import torchvision\n",
    "from torchvision import transforms\n",
    "from torchvision.datasets import ImageFolder\n",
    "\n",
    "import os\n",
    "import shutil\n",
    "import random\n",
    "\n",
    "source_dir = \"images/\"  # Directory containing subfolders (CAKE, BEANS, etc.)\n",
    "data_dir = \"data_dir/\"  # Destination directory for training data\n",
    "test_data_dir = \"test_data_dir/\"  # Destination directory for testing data\n",
    "\n",
    "os.makedirs(data_dir, exist_ok=True)\n",
    "os.makedirs(test_data_dir, exist_ok=True)\n",
    "\n",
    "test_ratio = 0.2\n",
    "\n",
    "for class_folder in os.listdir(source_dir):\n",
    "    class_path = os.path.join(source_dir, class_folder)\n",
    "    if os.path.isdir(class_path):\n",
    "        class_files = os.listdir(class_path)\n",
    "        random.shuffle(class_files)\n",
    "        split_index = int(len(class_files) * test_ratio)\n",
    "\n",
    "        # Move files to the testing directory\n",
    "        for file_name in class_files[:split_index]:\n",
    "            src_path = os.path.join(class_path, file_name)\n",
    "            dest_path = os.path.join(test_data_dir, class_folder, file_name)\n",
    "            os.makedirs(os.path.dirname(dest_path), exist_ok=True)\n",
    "            shutil.move(src_path, dest_path)\n",
    "\n",
    "        # Move the remaining files to the training directory\n",
    "        for file_name in class_files[split_index:]:\n",
    "            src_path = os.path.join(class_path, file_name)\n",
    "            dest_path = os.path.join(data_dir, class_folder, file_name)\n",
    "            os.makedirs(os.path.dirname(dest_path), exist_ok=True)\n",
    "            shutil.move(src_path, dest_path)"
   ]
  },
  {
   "cell_type": "code",
   "execution_count": null,
   "outputs": [],
   "source": [],
   "metadata": {
    "collapsed": false
   },
   "id": "1cb3792af71c89b3"
  }
 ],
 "metadata": {
  "kernelspec": {
   "display_name": "Python 3",
   "language": "python",
   "name": "python3"
  },
  "language_info": {
   "codemirror_mode": {
    "name": "ipython",
    "version": 2
   },
   "file_extension": ".py",
   "mimetype": "text/x-python",
   "name": "python",
   "nbconvert_exporter": "python",
   "pygments_lexer": "ipython2",
   "version": "2.7.6"
  }
 },
 "nbformat": 4,
 "nbformat_minor": 5
}
