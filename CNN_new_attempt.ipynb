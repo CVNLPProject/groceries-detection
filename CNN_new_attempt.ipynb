{
 "cells": [
  {
   "cell_type": "markdown",
   "source": [
    "# CNN Groceries Prediction"
   ],
   "metadata": {
    "collapsed": false
   },
   "id": "88b365a3c927a519"
  },
  {
   "cell_type": "markdown",
   "source": [
    "### Load data and transform"
   ],
   "metadata": {
    "collapsed": false
   },
   "id": "24caa70a2adc38c9"
  },
  {
   "cell_type": "code",
   "execution_count": 6,
   "outputs": [],
   "source": [
    "import torch\n",
    "import torchvision\n",
    "from torchvision import transforms\n",
    "from torchvision.datasets import ImageFolder\n",
    "\n",
    "\n",
    "#train and test data directory\n",
    "data_dir = \"data_dir/\"  # Destination directory for training data\n",
    "test_data_dir = \"test_data_dir/\"  # Destination directory for testing data\n",
    "\n",
    "\n",
    "#load the train and test data\n",
    "dataset = ImageFolder(data_dir,transform = transforms.Compose([\n",
    "    transforms.Resize((100,100)),transforms.ToTensor()\n",
    "]))\n",
    "test_dataset = ImageFolder(test_data_dir,transforms.Compose([\n",
    "    transforms.Resize((100,100)),transforms.ToTensor()\n",
    "]))"
   ],
   "metadata": {
    "collapsed": false,
    "ExecuteTime": {
     "end_time": "2023-09-29T10:19:34.058714400Z",
     "start_time": "2023-09-29T10:19:33.858926500Z"
    }
   },
   "id": "62295e1d3edef2b6"
  },
  {
   "cell_type": "markdown",
   "source": [
    "### Creating Mini batches to make it runnable on cpu/ low ram"
   ],
   "metadata": {
    "collapsed": false
   },
   "id": "2908fd97d7bb22d8"
  },
  {
   "cell_type": "code",
   "execution_count": 7,
   "outputs": [],
   "source": [
    "from torch.utils.data import DataLoader\n",
    "# Split the dataset into smaller mini-batches using random permutation\n",
    "batch_size = 32  # Original batch size\n",
    "num_mini_batches = len(dataset) // batch_size  # Number of smaller mini-batches\n",
    "remainder = len(dataset) % batch_size  # Remaining data\n",
    "\n",
    "# Create a list of indices and shuffle them using random permutation\n",
    "indices = torch.randperm(len(dataset))\n",
    "mini_batch_indices = [indices[i:i+batch_size].tolist() for i in range(0, len(indices) - remainder, batch_size)]\n",
    "\n",
    "# If there's remaining data, add it to the last mini-batch\n",
    "if remainder > 0:\n",
    "    mini_batch_indices.append(indices[-remainder:].tolist())\n",
    "\n",
    "# Create DataLoader instances for each mini-batch\n",
    "mini_batch_loaders = [DataLoader(dataset, batch_size=1, sampler=torch.utils.data.SubsetRandomSampler(indices))\n",
    "                      for indices in mini_batch_indices]"
   ],
   "metadata": {
    "collapsed": false,
    "ExecuteTime": {
     "end_time": "2023-09-29T10:19:34.090552800Z",
     "start_time": "2023-09-29T10:19:34.025704Z"
    }
   },
   "id": "20f04d3e5e789650"
  },
  {
   "cell_type": "markdown",
   "source": [
    "### Define Model architecture"
   ],
   "metadata": {
    "collapsed": false
   },
   "id": "3d0e8dad59614c54"
  },
  {
   "cell_type": "code",
   "execution_count": 8,
   "outputs": [
    {
     "name": "stdout",
     "output_type": "stream",
     "text": [
      "BasicCNN(\n",
      "  (conv1): Conv2d(3, 16, kernel_size=(3, 3), stride=(1, 1), padding=(1, 1))\n",
      "  (relu1): ReLU()\n",
      "  (maxpool1): MaxPool2d(kernel_size=2, stride=2, padding=0, dilation=1, ceil_mode=False)\n",
      "  (conv2): Conv2d(16, 32, kernel_size=(3, 3), stride=(1, 1), padding=(1, 1))\n",
      "  (relu2): ReLU()\n",
      "  (maxpool2): MaxPool2d(kernel_size=2, stride=2, padding=0, dilation=1, ceil_mode=False)\n",
      "  (fc1): Linear(in_features=20000, out_features=128, bias=True)\n",
      "  (relu3): ReLU()\n",
      "  (fc2): Linear(in_features=128, out_features=25, bias=True)\n",
      ")\n"
     ]
    }
   ],
   "source": [
    "import torch\n",
    "import torch.nn as nn\n",
    "\n",
    "class BasicCNN(nn.Module):\n",
    "    def __init__(self, num_classes):\n",
    "        super(BasicCNN, self).__init__()\n",
    "\n",
    "        # First Convolutional Layer\n",
    "        self.conv1 = nn.Conv2d(in_channels=3, out_channels=16, kernel_size=3, stride=1, padding=1)\n",
    "        self.relu1 = nn.ReLU()\n",
    "        self.maxpool1 = nn.MaxPool2d(kernel_size=2, stride=2)\n",
    "\n",
    "        # Second Convolutional Layer\n",
    "        self.conv2 = nn.Conv2d(in_channels=16, out_channels=32, kernel_size=3, stride=1, padding=1)\n",
    "        self.relu2 = nn.ReLU()\n",
    "        self.maxpool2 = nn.MaxPool2d(kernel_size=2, stride=2)\n",
    "\n",
    "        # Adjust the input size for the fully connected layers\n",
    "        self.fc_input_size = 32 * 25 * 25  # Adjusted for 100x100 input size\n",
    "\n",
    "        # Fully Connected Layers\n",
    "        self.fc1 = nn.Linear(self.fc_input_size, 128)\n",
    "        self.relu3 = nn.ReLU()\n",
    "        self.fc2 = nn.Linear(128, num_classes)\n",
    "\n",
    "    def forward(self, x):\n",
    "        # Forward pass through the first convolutional layer\n",
    "        x = self.conv1(x)\n",
    "        x = self.relu1(x)\n",
    "        x = self.maxpool1(x)\n",
    "\n",
    "        # Forward pass through the second convolutional layer\n",
    "        x = self.conv2(x)\n",
    "        x = self.relu2(x)\n",
    "        x = self.maxpool2(x)\n",
    "\n",
    "        # Reshape the tensor for the fully connected layers\n",
    "        x = x.view(x.size(0), -1)\n",
    "\n",
    "        # Forward pass through the fully connected layers\n",
    "        x = self.fc1(x)\n",
    "        x = self.relu3(x)\n",
    "        x = self.fc2(x)\n",
    "\n",
    "        return x\n",
    "\n",
    "# Create an instance of the BasicCNN model with the number of classes in your classification task\n",
    "num_classes = 25\n",
    "model = BasicCNN(num_classes)\n",
    "\n",
    "# Print the model architecture\n",
    "print(model)"
   ],
   "metadata": {
    "collapsed": false,
    "ExecuteTime": {
     "end_time": "2023-09-29T10:19:34.183427600Z",
     "start_time": "2023-09-29T10:19:34.053528500Z"
    }
   },
   "id": "92c5282d0feba50b"
  },
  {
   "cell_type": "markdown",
   "source": [
    "### Define Loss function, Optimizer and Hyperparameters"
   ],
   "metadata": {
    "collapsed": false
   },
   "id": "c950594a4a38b32f"
  },
  {
   "cell_type": "code",
   "execution_count": 9,
   "outputs": [
    {
     "data": {
      "text/plain": "BasicCNN(\n  (conv1): Conv2d(3, 16, kernel_size=(3, 3), stride=(1, 1), padding=(1, 1))\n  (relu1): ReLU()\n  (maxpool1): MaxPool2d(kernel_size=2, stride=2, padding=0, dilation=1, ceil_mode=False)\n  (conv2): Conv2d(16, 32, kernel_size=(3, 3), stride=(1, 1), padding=(1, 1))\n  (relu2): ReLU()\n  (maxpool2): MaxPool2d(kernel_size=2, stride=2, padding=0, dilation=1, ceil_mode=False)\n  (fc1): Linear(in_features=20000, out_features=128, bias=True)\n  (relu3): ReLU()\n  (fc2): Linear(in_features=128, out_features=25, bias=True)\n)"
     },
     "execution_count": 9,
     "metadata": {},
     "output_type": "execute_result"
    }
   ],
   "source": [
    "import torch.optim as optim\n",
    "# Define the loss function and optimizer\n",
    "criterion = nn.CrossEntropyLoss()\n",
    "optimizer = optim.Adam(model.parameters(), lr=0.001)\n",
    "\n",
    "# Training loop\n",
    "epochs = 10  # You can adjust the number of epochs\n",
    "device = torch.device(\"cuda\" if torch.cuda.is_available() else \"cpu\")\n",
    "model.to(device)"
   ],
   "metadata": {
    "collapsed": false,
    "ExecuteTime": {
     "end_time": "2023-09-29T10:19:34.230972800Z",
     "start_time": "2023-09-29T10:19:34.140635Z"
    }
   },
   "id": "6d68d2bc2688b50d"
  },
  {
   "cell_type": "code",
   "execution_count": null,
   "outputs": [],
   "source": [
    "for epoch in range(epochs):\n",
    "    model.train()\n",
    "    running_loss = 0.0\n",
    "    for mini_batch_loader in mini_batch_loaders:\n",
    "        for inputs, labels in mini_batch_loader:\n",
    "            inputs, labels = inputs.to(device), labels.to(device)\n",
    "\n",
    "            optimizer.zero_grad()\n",
    "\n",
    "            # Forward pass\n",
    "            outputs = model(inputs)\n",
    "            loss = criterion(outputs, labels)\n",
    "\n",
    "            # Backward pass and optimization\n",
    "            loss.backward()\n",
    "            optimizer.step()\n",
    "\n",
    "            running_loss += loss.item()\n",
    "\n",
    "    print(f\"Epoch {epoch + 1}/{epochs}, Loss: {running_loss / len(train_loader)}\")\n",
    "\n",
    "print(\"Finished Training\")"
   ],
   "metadata": {
    "collapsed": false,
    "is_executing": true,
    "ExecuteTime": {
     "start_time": "2023-09-29T10:19:34.167739200Z"
    }
   },
   "id": "a141f379431b4f59"
  },
  {
   "cell_type": "markdown",
   "source": [
    "### Model evaluation"
   ],
   "metadata": {
    "collapsed": false
   },
   "id": "31f87efb3bfe7898"
  },
  {
   "cell_type": "code",
   "execution_count": null,
   "outputs": [],
   "source": [
    "# Evaluate the model on the test dataset\n",
    "model.eval()\n",
    "correct = 0\n",
    "total = 0\n",
    "with torch.no_grad():\n",
    "    for inputs, labels in test_dataset:\n",
    "        inputs, labels = inputs.to(device), labels.to(device)\n",
    "        outputs = model(inputs)\n",
    "        _, predicted = torch.max(outputs.data, 1)\n",
    "        total += labels.size(0)\n",
    "        correct += (predicted == labels).sum().item()\n",
    "\n",
    "accuracy = 100 * correct / total\n",
    "print(f\"Accuracy on the test dataset: {accuracy:.2f}%\")"
   ],
   "metadata": {
    "collapsed": false,
    "is_executing": true
   },
   "id": "6e9302719f245084"
  }
 ],
 "metadata": {
  "kernelspec": {
   "display_name": "Python 3",
   "language": "python",
   "name": "python3"
  },
  "language_info": {
   "codemirror_mode": {
    "name": "ipython",
    "version": 2
   },
   "file_extension": ".py",
   "mimetype": "text/x-python",
   "name": "python",
   "nbconvert_exporter": "python",
   "pygments_lexer": "ipython2",
   "version": "2.7.6"
  }
 },
 "nbformat": 4,
 "nbformat_minor": 5
}
